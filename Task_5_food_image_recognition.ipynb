{
  "nbformat": 4,
  "nbformat_minor": 0,
  "metadata": {
    "colab": {
      "provenance": []
    },
    "kernelspec": {
      "name": "python3",
      "display_name": "Python 3"
    },
    "language_info": {
      "name": "python"
    }
  },
  "cells": [
    {
      "cell_type": "code",
      "execution_count": null,
      "metadata": {
        "colab": {
          "base_uri": "https://localhost:8080/"
        },
        "id": "JbTw57fxvGoI",
        "outputId": "7d41a334-80fa-486e-f91f-78bb0cb844ca"
      },
      "outputs": [
        {
          "output_type": "stream",
          "name": "stdout",
          "text": [
            "Requirement already satisfied: requests in /usr/local/lib/python3.10/dist-packages (2.31.0)\n",
            "Requirement already satisfied: charset-normalizer<4,>=2 in /usr/local/lib/python3.10/dist-packages (from requests) (3.3.2)\n",
            "Requirement already satisfied: idna<4,>=2.5 in /usr/local/lib/python3.10/dist-packages (from requests) (3.6)\n",
            "Requirement already satisfied: urllib3<3,>=1.21.1 in /usr/local/lib/python3.10/dist-packages (from requests) (2.0.7)\n",
            "Requirement already satisfied: certifi>=2017.4.17 in /usr/local/lib/python3.10/dist-packages (from requests) (2023.11.17)\n"
          ]
        }
      ],
      "source": [
        "!pip install requests\n"
      ]
    },
    {
      "cell_type": "code",
      "source": [
        "import requests\n",
        "from keras.preprocessing import image\n",
        "from keras.applications.inception_v3 import InceptionV3, preprocess_input, decode_predictions\n",
        "import numpy as np\n",
        "\n",
        "def get_food_nutrition(api_key, food_name):\n",
        "    base_url = \"https://api.nal.usda.gov/fdc/v1/foods/search\"\n",
        "\n",
        "    # Set up parameters for the API request\n",
        "    params = {\n",
        "        'query': food_name,\n",
        "        'api_key': api_key,\n",
        "    }\n",
        "\n",
        "    # Make the API request\n",
        "    response = requests.get(base_url, params=params)\n",
        "\n",
        "    # Check if the request was successful\n",
        "    if response.status_code == 200:\n",
        "        # Parse the JSON response\n",
        "        data = response.json()\n",
        "\n",
        "        # Check if any foods were found\n",
        "        if 'foods' in data and data['foods']:\n",
        "            # Get the first food item\n",
        "            food_item = data['foods'][0]\n",
        "\n",
        "            # Get the calorie content\n",
        "            if 'foodNutrients' in food_item:\n",
        "                for nutrient in food_item['foodNutrients']:\n",
        "                    if nutrient['nutrientName'] == 'Energy':\n",
        "                        return nutrient['value']\n",
        "\n",
        "    # If the request was not successful or no data was found, return None\n",
        "    return None\n",
        "\n",
        "def predict_food(img_path):\n",
        "    img = image.load_img(img_path, target_size=(299, 299))\n",
        "    img_array = image.img_to_array(img)\n",
        "    img_array = np.expand_dims(img_array, axis=0)\n",
        "    img_array = preprocess_input(img_array)\n",
        "\n",
        "    # Load InceptionV3 model pre-trained on ImageNet data\n",
        "    model_incep = InceptionV3(weights='imagenet')\n",
        "\n",
        "    predictions = model_incep.predict(img_array)\n",
        "    decoded_predictions = decode_predictions(predictions, top=1)[0]\n",
        "\n",
        "    return decoded_predictions[0][1]\n",
        "\n",
        "# Replace 'your_api_key' with your actual FoodData Central API key\n",
        "api_key = 'fjFLVVfbL18IC3vwchQJ7OJiY5T71E6yrHgmYd5Q'\n",
        "img_path = 'pizza.jpeg'  # Replace with the path to your food image\n",
        "\n",
        "# Predict the food item from the image\n",
        "predicted_food = predict_food(img_path)\n",
        "\n",
        "if predicted_food:\n",
        "    print(f\"Predicted Food: {predicted_food}\")\n",
        "\n",
        "    # Get calorie information using FoodData Central API\n",
        "    calories = get_food_nutrition(api_key, predicted_food)\n",
        "\n",
        "    if calories is not None:\n",
        "        print(f\"The estimated calories in {predicted_food} are: {calories} kcal\")\n",
        "    else:\n",
        "        print(f\"No data found for {predicted_food}\")\n",
        "else:\n",
        "    print(\"Unable to predict food from the image.\")\n"
      ],
      "metadata": {
        "colab": {
          "base_uri": "https://localhost:8080/"
        },
        "id": "Z4oy9ocCvts8",
        "outputId": "21aaf3ac-1375-451d-ee6f-eda5116be485"
      },
      "execution_count": null,
      "outputs": [
        {
          "output_type": "stream",
          "name": "stdout",
          "text": [
            "1/1 [==============================] - 2s 2s/step\n",
            "Predicted Food: pizza\n",
            "The estimated calories in pizza are: 250 kcal\n"
          ]
        }
      ]
    }
  ]
}